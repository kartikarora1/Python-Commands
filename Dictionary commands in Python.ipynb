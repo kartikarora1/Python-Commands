{
 "cells": [
  {
   "cell_type": "markdown",
   "metadata": {},
   "source": [
    "# Dictionary commands in Python"
   ]
  },
  {
   "cell_type": "markdown",
   "metadata": {},
   "source": [
    "# 1.clear()"
   ]
  },
  {
   "cell_type": "code",
   "execution_count": 12,
   "metadata": {},
   "outputs": [
    {
     "name": "stdout",
     "output_type": "stream",
     "text": [
      "{}\n"
     ]
    }
   ],
   "source": [
    "dict={\n",
    "  \"name\": \"John\",\n",
    "  \"age\": 30,\n",
    "  \"country\": \"USA\"\n",
    "}\n",
    "dict.clear()\n",
    "print(dict)"
   ]
  },
  {
   "cell_type": "markdown",
   "metadata": {},
   "source": [
    "# 2.copy()"
   ]
  },
  {
   "cell_type": "code",
   "execution_count": 13,
   "metadata": {},
   "outputs": [
    {
     "name": "stdout",
     "output_type": "stream",
     "text": [
      "{'name': 'John', 'age': 30, 'country': 'USA'}\n"
     ]
    }
   ],
   "source": [
    "dict={\n",
    "  \"name\": \"John\",\n",
    "  \"age\": 30,\n",
    "  \"country\": \"USA\"\n",
    "}\n",
    "x=dict.copy()\n",
    "print(x)"
   ]
  },
  {
   "cell_type": "markdown",
   "metadata": {},
   "source": [
    "# 3.get()"
   ]
  },
  {
   "cell_type": "code",
   "execution_count": 15,
   "metadata": {},
   "outputs": [
    {
     "name": "stdout",
     "output_type": "stream",
     "text": [
      "30\n",
      "USA\n"
     ]
    }
   ],
   "source": [
    "dict={\n",
    "  \"name\": \"John\",\n",
    "  \"age\": 30,\n",
    "  \"country\": \"USA\"\n",
    "}\n",
    "x=dict.get(\"age\")\n",
    "c=dict.get(\"country\")\n",
    "print(x)\n",
    "print(c)"
   ]
  },
  {
   "cell_type": "markdown",
   "metadata": {},
   "source": [
    "# 4.items()"
   ]
  },
  {
   "cell_type": "code",
   "execution_count": 16,
   "metadata": {},
   "outputs": [
    {
     "name": "stdout",
     "output_type": "stream",
     "text": [
      "dict_items([('name', 'John'), ('age', 30), ('country', 'USA')])\n"
     ]
    }
   ],
   "source": [
    "dict={\n",
    "  \"name\": \"John\",\n",
    "  \"age\": 30,\n",
    "  \"country\": \"USA\"\n",
    "}\n",
    "x=dict.items()\n",
    "print(x)"
   ]
  },
  {
   "cell_type": "markdown",
   "metadata": {},
   "source": [
    "# 5.keys()"
   ]
  },
  {
   "cell_type": "code",
   "execution_count": 17,
   "metadata": {},
   "outputs": [
    {
     "name": "stdout",
     "output_type": "stream",
     "text": [
      "dict_keys(['name', 'age', 'country'])\n"
     ]
    }
   ],
   "source": [
    "dict={\n",
    "  \"name\": \"John\",\n",
    "  \"age\": 30,\n",
    "  \"country\": \"USA\"\n",
    "}\n",
    "x=dict.keys()\n",
    "print(x)"
   ]
  },
  {
   "cell_type": "markdown",
   "metadata": {},
   "source": [
    "# 6.values()"
   ]
  },
  {
   "cell_type": "code",
   "execution_count": 26,
   "metadata": {},
   "outputs": [
    {
     "name": "stdout",
     "output_type": "stream",
     "text": [
      "dict_values(['John', 30, 'USA'])\n"
     ]
    }
   ],
   "source": [
    "dict={\n",
    "  \"name\": \"John\",\n",
    "  \"age\": 30,\n",
    "  \"country\": \"USA\"\n",
    "}\n",
    "x=dict.values()\n",
    "print(x)"
   ]
  },
  {
   "cell_type": "markdown",
   "metadata": {},
   "source": [
    "# 7.pop()"
   ]
  },
  {
   "cell_type": "code",
   "execution_count": 18,
   "metadata": {},
   "outputs": [
    {
     "name": "stdout",
     "output_type": "stream",
     "text": [
      "{'name': 'John', 'country': 'USA', 'phone': 2348894}\n"
     ]
    }
   ],
   "source": [
    "dict={\n",
    "  \"name\": \"John\",\n",
    "  \"age\": 30,\n",
    "  \"country\": \"USA\"\n",
    "}\n",
    "x=dict.pop(\"age\")\n",
    "dict[\"phone\"]=2348894\n",
    "print(dict)"
   ]
  },
  {
   "cell_type": "markdown",
   "metadata": {},
   "source": [
    "# 8.popitem()"
   ]
  },
  {
   "cell_type": "code",
   "execution_count": 19,
   "metadata": {},
   "outputs": [
    {
     "name": "stdout",
     "output_type": "stream",
     "text": [
      "{'name': 'John', 'age': 30}\n"
     ]
    }
   ],
   "source": [
    "dict={\n",
    "  \"name\": \"John\",\n",
    "  \"age\": 30,\n",
    "  \"country\": \"USA\"\n",
    "}\n",
    "dict.popitem()\n",
    "print(dict)"
   ]
  },
  {
   "cell_type": "markdown",
   "metadata": {},
   "source": [
    "# 9.setdefault()"
   ]
  },
  {
   "cell_type": "code",
   "execution_count": 22,
   "metadata": {},
   "outputs": [
    {
     "name": "stdout",
     "output_type": "stream",
     "text": [
      "{'name': 'John', 'age': 30, 'country': 'USA', 'phone': '3454363'}\n",
      "30\n"
     ]
    }
   ],
   "source": [
    "dict={\n",
    "  \"name\": \"John\",\n",
    "  \"age\": 30,\n",
    "  \"country\": \"USA\"\n",
    "}\n",
    "dict.setdefault(\"phone\",\"3454363\")\n",
    "x=dict.setdefault(\"age\")\n",
    "print(dict)\n",
    "print(x)"
   ]
  },
  {
   "cell_type": "markdown",
   "metadata": {},
   "source": [
    "# 10.update()"
   ]
  },
  {
   "cell_type": "code",
   "execution_count": 25,
   "metadata": {},
   "outputs": [
    {
     "name": "stdout",
     "output_type": "stream",
     "text": [
      "{'name': 'John', 'age': '25', 'country': 'USA'}\n"
     ]
    }
   ],
   "source": [
    "dict={\n",
    "  \"name\": \"John\",\n",
    "  \"age\": 30,\n",
    "  \"country\": \"USA\"\n",
    "}\n",
    "dict.update({\"age\":\"25\"})\n",
    "print(dict)"
   ]
  }
 ],
 "metadata": {
  "kernelspec": {
   "display_name": "Python 3",
   "language": "python",
   "name": "python3"
  },
  "language_info": {
   "codemirror_mode": {
    "name": "ipython",
    "version": 3
   },
   "file_extension": ".py",
   "mimetype": "text/x-python",
   "name": "python",
   "nbconvert_exporter": "python",
   "pygments_lexer": "ipython3",
   "version": "3.8.5"
  }
 },
 "nbformat": 4,
 "nbformat_minor": 4
}
