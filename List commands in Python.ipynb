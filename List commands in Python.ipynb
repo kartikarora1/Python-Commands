{
 "cells": [
  {
   "cell_type": "markdown",
   "metadata": {},
   "source": [
    "# List commands in Python"
   ]
  },
  {
   "cell_type": "markdown",
   "metadata": {},
   "source": [
    "# 1.append()"
   ]
  },
  {
   "cell_type": "code",
   "execution_count": 4,
   "metadata": {},
   "outputs": [
    {
     "name": "stdout",
     "output_type": "stream",
     "text": [
      "['apple', 'mango', 43, 12, 8, 56, 34, 'hello', 'python', 'java']\n"
     ]
    }
   ],
   "source": [
    "list=[\"apple\",\"mango\",43,12,8,56,34,\"hello\",\"python\"]\n",
    "list.append(\"java\")\n",
    "print(list)"
   ]
  },
  {
   "cell_type": "markdown",
   "metadata": {},
   "source": [
    "# 2.clear()"
   ]
  },
  {
   "cell_type": "code",
   "execution_count": 5,
   "metadata": {},
   "outputs": [
    {
     "name": "stdout",
     "output_type": "stream",
     "text": [
      "[]\n"
     ]
    }
   ],
   "source": [
    "list=[\"apple\",\"mango\",43,12,8,56,34,\"hello\",\"python\"]\n",
    "list.clear()\n",
    "print(list)"
   ]
  },
  {
   "cell_type": "markdown",
   "metadata": {},
   "source": [
    "# 3.copy()"
   ]
  },
  {
   "cell_type": "code",
   "execution_count": 6,
   "metadata": {},
   "outputs": [
    {
     "name": "stdout",
     "output_type": "stream",
     "text": [
      "['apple', 'mango', 43, 12, 8, 56, 34, 'hello', 'python']\n"
     ]
    }
   ],
   "source": [
    "list=[\"apple\",\"mango\",43,12,8,56,34,\"hello\",\"python\"]\n",
    "x=list.copy()\n",
    "print(x)"
   ]
  },
  {
   "cell_type": "markdown",
   "metadata": {},
   "source": [
    "# 4.count()"
   ]
  },
  {
   "cell_type": "code",
   "execution_count": 10,
   "metadata": {},
   "outputs": [
    {
     "name": "stdout",
     "output_type": "stream",
     "text": [
      "1\n"
     ]
    }
   ],
   "source": [
    "list=[\"apple\",\"mango\",43,12,8,56,34,\"hello\",\"python\"]\n",
    "x=list.count(\"mango\")\n",
    "print(x)"
   ]
  },
  {
   "cell_type": "markdown",
   "metadata": {},
   "source": [
    "# 5.extend()"
   ]
  },
  {
   "cell_type": "code",
   "execution_count": 15,
   "metadata": {},
   "outputs": [
    {
     "name": "stdout",
     "output_type": "stream",
     "text": [
      "['apple', 'mango', 43, 12, 8, 56, 34, 'hello', 'python', 'india', 'australia', 'nepal', 'japan', 'USA']\n"
     ]
    }
   ],
   "source": [
    "list1=[\"apple\",\"mango\",43,12,8,56,34,\"hello\",\"python\"]\n",
    "list2=[\"india\",\"australia\",\"nepal\",\"japan\",\"USA\"]\n",
    "list1.extend(list2)\n",
    "print(list1)"
   ]
  },
  {
   "cell_type": "markdown",
   "metadata": {},
   "source": [
    "# 6.index()"
   ]
  },
  {
   "cell_type": "code",
   "execution_count": 20,
   "metadata": {},
   "outputs": [
    {
     "name": "stdout",
     "output_type": "stream",
     "text": [
      "8\n",
      "['apple', 'mango', 43, 12, 8, 1, 34, 'hello', 'python']\n",
      "['apple', 'mango', 43, 12, 8, 1]\n"
     ]
    }
   ],
   "source": [
    "list=[\"apple\",\"mango\",43,12,8,56,34,\"hello\",\"python\"]\n",
    "x =list.index(\"python\")\n",
    "list[5]=1\n",
    "p=list[:6]\n",
    "print(x)\n",
    "print(list)\n",
    "print(p)"
   ]
  },
  {
   "cell_type": "markdown",
   "metadata": {},
   "source": [
    "# 7.insert()"
   ]
  },
  {
   "cell_type": "code",
   "execution_count": 21,
   "metadata": {},
   "outputs": [
    {
     "name": "stdout",
     "output_type": "stream",
     "text": [
      "['apple', 'mango', 12, 43, 12, 8, 56, 34, 'hello', 'python']\n"
     ]
    }
   ],
   "source": [
    "list=[\"apple\",\"mango\",43,12,8,56,34,\"hello\",\"python\"]\n",
    "list.insert(2,12)\n",
    "print(list)"
   ]
  },
  {
   "cell_type": "markdown",
   "metadata": {},
   "source": [
    "# 8.pop()"
   ]
  },
  {
   "cell_type": "code",
   "execution_count": 25,
   "metadata": {},
   "outputs": [
    {
     "name": "stdout",
     "output_type": "stream",
     "text": [
      "['apple', 'mango', 43, 12, 8, 34, 'hello', 'python']\n"
     ]
    }
   ],
   "source": [
    "list=[\"apple\",\"mango\",43,12,8,56,34,\"hello\",\"python\"]\n",
    "list.pop(5)\n",
    "print(list)"
   ]
  },
  {
   "cell_type": "markdown",
   "metadata": {},
   "source": [
    "# 9.remove()"
   ]
  },
  {
   "cell_type": "code",
   "execution_count": 29,
   "metadata": {},
   "outputs": [
    {
     "name": "stdout",
     "output_type": "stream",
     "text": [
      "['apple', 'mango', 43, 12, 8, 56, 34, 'python']\n"
     ]
    }
   ],
   "source": [
    "list=[\"apple\",\"mango\",43,12,8,56,34,\"hello\",\"python\"]\n",
    "list.remove(\"hello\")\n",
    "print(list)"
   ]
  },
  {
   "cell_type": "markdown",
   "metadata": {},
   "source": [
    "# 10.reverse()"
   ]
  },
  {
   "cell_type": "code",
   "execution_count": 31,
   "metadata": {},
   "outputs": [
    {
     "name": "stdout",
     "output_type": "stream",
     "text": [
      "['python', 'hello', 34, 56, 8, 12, 43, 'mango', 'apple']\n"
     ]
    }
   ],
   "source": [
    "list=[\"apple\",\"mango\",43,12,8,56,34,\"hello\",\"python\"]\n",
    "list.reverse()\n",
    "print(list)"
   ]
  },
  {
   "cell_type": "markdown",
   "metadata": {},
   "source": [
    "# 11.sort()"
   ]
  },
  {
   "cell_type": "code",
   "execution_count": 39,
   "metadata": {},
   "outputs": [
    {
     "name": "stdout",
     "output_type": "stream",
     "text": [
      "['python', 'mango', 'hello', 'apple']\n"
     ]
    }
   ],
   "source": [
    "list=[\"apple\",\"mango\",\"hello\",\"python\"]\n",
    "list.sort(reverse=True)\n",
    "print(list)"
   ]
  }
 ],
 "metadata": {
  "kernelspec": {
   "display_name": "Python 3",
   "language": "python",
   "name": "python3"
  },
  "language_info": {
   "codemirror_mode": {
    "name": "ipython",
    "version": 3
   },
   "file_extension": ".py",
   "mimetype": "text/x-python",
   "name": "python",
   "nbconvert_exporter": "python",
   "pygments_lexer": "ipython3",
   "version": "3.8.5"
  }
 },
 "nbformat": 4,
 "nbformat_minor": 4
}
