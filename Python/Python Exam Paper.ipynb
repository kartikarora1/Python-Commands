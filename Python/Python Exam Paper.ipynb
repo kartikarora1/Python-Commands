{
 "cells": [
  {
   "cell_type": "markdown",
   "metadata": {},
   "source": [
    "# Python Exam Paper"
   ]
  },
  {
   "cell_type": "markdown",
   "metadata": {},
   "source": [
    "<b> 1. Given below are a list of positive and negative words. Also a list of comments is provided. Segregate the comments based on positive and negative sentiments.\n",
    "    positive = ['good','awesome', 'best', 'nice']\n",
    "    negative = ['worst','awful'] \n",
    "    comments = ['He is a good boy', 'Food is the worst here', 'He is an awesome player', 'She is the best', 'This pizza tastes                  awful', 'These burger are really nice']"
   ]
  },
  {
   "cell_type": "code",
   "execution_count": 1,
   "metadata": {},
   "outputs": [
    {
     "name": "stdout",
     "output_type": "stream",
     "text": [
      "Positive\n",
      "He is a good boy\n",
      "Negitive\n",
      "Food is the worst here\n",
      "Positive\n",
      "He is an awesome player\n",
      "Positive\n",
      "She is the best\n",
      "Negitive\n",
      "This pizza tastes awful\n",
      "Positive\n",
      "These burger are really nice\n"
     ]
    }
   ],
   "source": [
    "positive = ['good','awesome', 'best', 'nice']\n",
    "\n",
    "negative = ['worst','awful', 'bad']\n",
    "\n",
    "comments = ['He is a good boy', 'Food is the worst here', 'He is an awesome player', 'She is the best', 'This pizza tastes awful', 'These burger are really nice']\n",
    "for i in comments:\n",
    "    for j in positive:\n",
    "        if j in i.split(' '):\n",
    "            print(\"Positive\")\n",
    "            print(i)\n",
    "    for j in negative:\n",
    "        if j in i.split(' '):\n",
    "            print(\"Negitive\")\n",
    "            print(i)"
   ]
  },
  {
   "cell_type": "markdown",
   "metadata": {},
   "source": [
    "<B>2. Create a dictionary containing three lambda functions square, cube and square root.\n",
    "E.g. dict = {'Square': function for squaring, 'Cube': function for cube, 'Squareroot': function for square root}\n",
    "Pass the values (input from the user) to the functions in the dictionary respectively. Then add the outputs of each function and print it."
   ]
  },
  {
   "cell_type": "code",
   "execution_count": 2,
   "metadata": {},
   "outputs": [
    {
     "name": "stdout",
     "output_type": "stream",
     "text": [
      "8\n",
      "578.8284271247462\n"
     ]
    }
   ],
   "source": [
    "import math\n",
    "square  = lambda a:a**2\n",
    "cube = lambda a:a**3\n",
    "sq_root = lambda a:math.sqrt(a)\n",
    "num = int(input())\n",
    "dic ={'Square':square(num),'Cube':cube(num),'Square_root':sq_root(num)}\n",
    "sum = dic['Square']+dic['Cube']+dic['Square_root']\n",
    "print(sum)"
   ]
  },
  {
   "cell_type": "markdown",
   "metadata": {},
   "source": [
    "<b> 3. Find the fruits that are sour in taste from the tuple given below.\n",
    "fruits = (('Lemon','sour'),\n",
    "('DragonFruit', 'Sweet'),\n",
    "('Grapes','soUr'),\n",
    "('Kiwi','Sour'),\n",
    "('Apples','sweet'),\n",
    "('Orange','sour'),\n",
    "('Blueberries','sweet'),\n",
    "('Limes','Sour')\n",
    ")\n",
    "Output: Sour Fruits: ['Lemon', 'Grapes', 'Kiwi', 'Orange', 'Limes']"
   ]
  },
  {
   "cell_type": "code",
   "execution_count": 3,
   "metadata": {},
   "outputs": [
    {
     "name": "stdout",
     "output_type": "stream",
     "text": [
      "Sour Fruits :  ['Lemon', 'Grapes', 'Kiwi', 'Orange', 'Limes']\n"
     ]
    }
   ],
   "source": [
    "lst = []\n",
    "fruits = (('Lemon','sour'), ('DragonFruit', 'Sweet'), ('Grapes','soUr'), ('Kiwi','Sour'), ('Apples','sweet'), ('Orange','sour'), ('Blueberries','sweet'), ('Limes','Sour') )\n",
    "for i in fruits:\n",
    "    if i[1].lower() =='sour':\n",
    "        lst.append(i[0])\n",
    "print('Sour Fruits : ',lst)\n",
    "        \n",
    "        "
   ]
  },
  {
   "cell_type": "markdown",
   "metadata": {},
   "source": [
    "<b>4. A list of words is given. Find the words from the list that have their second character in uppercase. ls = ['hello', 'Dear', 'hOw', 'ARe', 'You'] Output: ['hOw', 'ARe']"
   ]
  },
  {
   "cell_type": "code",
   "execution_count": 4,
   "metadata": {},
   "outputs": [
    {
     "name": "stdout",
     "output_type": "stream",
     "text": [
      "['hOw', 'ARe']\n"
     ]
    }
   ],
   "source": [
    "lst =  ['hello', 'Dear', 'hOw', 'ARe', 'You']\n",
    "ls =[]\n",
    "for i in lst:\n",
    "    if i[1].isupper():\n",
    "        ls.append(i)\n",
    "print(ls)"
   ]
  },
  {
   "cell_type": "markdown",
   "metadata": {},
   "source": [
    "<b> 5. A dictionary of names and their weights on earth is given. Find how much they will weigh on the moon. (Use map and lambda functions)\n",
    "    \n",
    "Formula : wMoon = (wEarth * GMoon) / GEarth\n",
    "Weight of people in kg\n",
    "WeightOnEarth = {'John':45, 'Shelly':65, 'Marry':35}\n",
    "Gravitational force on the Moon: 1.622 m/s2\n",
    "GMoon = 1.622\n",
    "Gravitational force on the Earth: 9.81 m/s2\n",
    "GEarth = 9.81\n",
    "Output:\n",
    "Weight on Moon: {'John': 7.44, 'Shelly': 10.75, 'Marry': 5.79}"
   ]
  },
  {
   "cell_type": "code",
   "execution_count": 5,
   "metadata": {},
   "outputs": [
    {
     "name": "stdout",
     "output_type": "stream",
     "text": [
      "{'John': 7.44, 'Shelly': 10.75, 'Marry': 5.79}\n"
     ]
    }
   ],
   "source": [
    "WeightOnEarth = {'John':45, 'Shelly':65, 'Marry':35}\n",
    "\n",
    "calc_grav = lambda x: round((x / 9.81) * 1.622, 2)\n",
    "\n",
    "calc = lambda k: (k,  calc_grav(WeightOnEarth[k]))\n",
    "\n",
    "WeightonMoon  = dict(calc(k) for k in WeightOnEarth)\n",
    "\n",
    "print(WeightonMoon)\n",
    "    \n",
    "    \n"
   ]
  },
  {
   "cell_type": "markdown",
   "metadata": {},
   "source": [
    "<b> 6. Write a program to fetch the words from the given list which have their first character in uppercase. namesList = ['santa Maria', 'Hello World','Merry christmas', 'tHank You'] Output: ['Maria', 'Hello', 'World', 'Merry', 'You']"
   ]
  },
  {
   "cell_type": "code",
   "execution_count": 6,
   "metadata": {},
   "outputs": [
    {
     "data": {
      "text/plain": [
       "['Maria', 'Hello', 'World', 'Merry', 'You']"
      ]
     },
     "execution_count": 6,
     "metadata": {},
     "output_type": "execute_result"
    }
   ],
   "source": [
    "lst =  ['santa Maria', 'Hello World','Merry christmas', 'tHank You']\n",
    "ls =[]\n",
    "for i in lst:\n",
    "        ls.append(i.split(' '))\n",
    "ls1 = []\n",
    "for i in ls:\n",
    "    for j in i:\n",
    "        if j[0].isupper():\n",
    "            ls1.append(j)\n",
    "ls1\n",
    "        "
   ]
  },
  {
   "cell_type": "markdown",
   "metadata": {},
   "source": [
    "<b> 7. A list containing multiple lists is given. Convert each inner list into sets and find the intersection of all the sets. Use reduce function. given_sets = [[1, 2, 3, 4, 8], [2, 3, 8, 5, 6], [8, 4, 5, 3, 7], [6, 9, 8, 3], [9, 12, 3, 7, 6, 8, 4, 6, 21, 1, 6]] Output: {8, 3}"
   ]
  },
  {
   "cell_type": "code",
   "execution_count": 7,
   "metadata": {},
   "outputs": [
    {
     "name": "stdout",
     "output_type": "stream",
     "text": [
      "{8, 3}\n"
     ]
    }
   ],
   "source": [
    "import functools\n",
    "l=[[1, 2, 3, 4, 8], [2, 3, 8, 5, 6], [8, 4, 5, 3, 7], [6, 9, 8, 3], [9,12, 3, 7, 6, 8, 4, 6, 21, 1, 6]]\n",
    "l1=[]\n",
    "for i in l:\n",
    "    l1.append(set(i))\n",
    "print(functools.reduce(lambda a,b : b.intersection(a),l1))"
   ]
  },
  {
   "cell_type": "markdown",
   "metadata": {},
   "source": [
    "<b>8.  Find the cumulative average of the list [9,8,7,6,5] using accumulate() and lambda function.\n",
    "\n",
    "Input list: [9, 5, 7, 8, 5]"
   ]
  },
  {
   "cell_type": "code",
   "execution_count": 8,
   "metadata": {},
   "outputs": [
    {
     "data": {
      "text/plain": [
       "[9.0, 7.0, 7.0, 7.25, 6.8]"
      ]
     },
     "execution_count": 8,
     "metadata": {},
     "output_type": "execute_result"
    }
   ],
   "source": [
    "from itertools import accumulate\n",
    "lst = [9, 5, 7, 8, 5]\n",
    "cum_avg = lambda l: [round(list(accumulate(l))[i-1]/i, 2) for i in range(1, len(l)+1)]\n",
    "cum_avg(lst)"
   ]
  },
  {
   "cell_type": "markdown",
   "metadata": {},
   "source": [
    "<b>9. A list of words is given. Convert the words into uppercase. Use lambda and map functions. lsbool = ['True','FALse','tRUe','tRue','False','faLse'] Output: ['TRUE', 'FALSE', 'TRUE', 'TRUE', 'FALSE', 'FALSE']"
   ]
  },
  {
   "cell_type": "code",
   "execution_count": 9,
   "metadata": {},
   "outputs": [
    {
     "data": {
      "text/plain": [
       "['TRUE', 'FALSE', 'TRUE', 'TRUE', 'FALSE', 'FALSE']"
      ]
     },
     "execution_count": 9,
     "metadata": {},
     "output_type": "execute_result"
    }
   ],
   "source": [
    "lsbool = ['True','FALse','tRUe','tRue','False','faLse']\n",
    "lm = list(map(lambda a:a.upper(),lsbool))\n",
    "lm"
   ]
  },
  {
   "cell_type": "markdown",
   "metadata": {},
   "source": [
    "<b>10. A list of dates (dd-mm-yyyy) in the form of string is given below. Create a new list that stores years i.e. the 'yyyy' part from the dates in the given list.\n",
    "datesList = ['17-12-1997','22-04-2011','01-05-1993','19-06-2020'] Output: ['1997','2011','1993','2020']"
   ]
  },
  {
   "cell_type": "code",
   "execution_count": 10,
   "metadata": {},
   "outputs": [
    {
     "data": {
      "text/plain": [
       "['1997', '2011', '1993', '2020']"
      ]
     },
     "execution_count": 10,
     "metadata": {},
     "output_type": "execute_result"
    }
   ],
   "source": [
    "datesList = ['17-12-1997','22-04-2011','01-05-1993','19-06-2020']\n",
    "dp=[i[6:] for i in datesList]\n",
    "dp"
   ]
  }
 ],
 "metadata": {
  "kernelspec": {
   "display_name": "Python 3",
   "language": "python",
   "name": "python3"
  },
  "language_info": {
   "codemirror_mode": {
    "name": "ipython",
    "version": 3
   },
   "file_extension": ".py",
   "mimetype": "text/x-python",
   "name": "python",
   "nbconvert_exporter": "python",
   "pygments_lexer": "ipython3",
   "version": "3.8.5"
  }
 },
 "nbformat": 4,
 "nbformat_minor": 2
}
