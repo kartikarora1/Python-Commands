{
 "cells": [
  {
   "cell_type": "markdown",
   "metadata": {},
   "source": [
    "# Python Take-Home Exercise"
   ]
  },
  {
   "cell_type": "markdown",
   "metadata": {},
   "source": [
    "### 1. Write a program using list comprehension to find primes in range 2 to 100"
   ]
  },
  {
   "cell_type": "code",
   "execution_count": 1,
   "metadata": {},
   "outputs": [],
   "source": [
    "[num for num in range(2,100) if 0 not in [num%i for i in range(2,int(num/2)+1)]]"
   ]
  },
  {
   "cell_type": "markdown",
   "metadata": {},
   "source": [
    "### 2. Write a function to reverse a string"
   ]
  },
  {
   "cell_type": "markdown",
   "metadata": {},
   "source": [
    "**String = 'Data Science'**"
   ]
  },
  {
   "cell_type": "code",
   "execution_count": 2,
   "metadata": {},
   "outputs": [
    {
     "data": {
      "text/plain": [
       "'ecneicS ataD'"
      ]
     },
     "execution_count": 2,
     "metadata": {},
     "output_type": "execute_result"
    }
   ],
   "source": [
    "String = 'Data Science'\n",
    "def reverse(String):\n",
    "    return String[::-1]\n",
    "reverse(String)"
   ]
  },
  {
   "cell_type": "markdown",
   "metadata": {},
   "source": [
    "### 3. Write a program to extract the words from the given list which have their first character in uppercase"
   ]
  },
  {
   "cell_type": "markdown",
   "metadata": {},
   "source": [
    "**Days = ['Monday', 'tuesday','friday', 'Sunday', 'Saturday']**\n",
    "\n",
    "**Output: ['Monday', 'Sunday', 'Saturday']**"
   ]
  },
  {
   "cell_type": "code",
   "execution_count": 3,
   "metadata": {},
   "outputs": [
    {
     "data": {
      "text/plain": [
       "['Monday', 'Sunday', 'Saturday']"
      ]
     },
     "execution_count": 3,
     "metadata": {},
     "output_type": "execute_result"
    }
   ],
   "source": [
    "Days = ['Monday', 'tuesday','friday', 'Sunday', 'Saturday']\n",
    "lst = []\n",
    "for i in Days:\n",
    "    \n",
    "    if (i[0].isupper()):\n",
    "        lst.append(i)\n",
    "lst\n",
    "        "
   ]
  },
  {
   "cell_type": "markdown",
   "metadata": {},
   "source": [
    "### 4. Write a program to extract the year part from the dates in the given list"
   ]
  },
  {
   "cell_type": "markdown",
   "metadata": {},
   "source": [
    "**Batch = ['15-06-1997','15-06-2011','15-06-1993','15-06-2020']**\n",
    "\n",
    "**Output: ['1997','2011','1993','2020']**"
   ]
  },
  {
   "cell_type": "code",
   "execution_count": 4,
   "metadata": {},
   "outputs": [
    {
     "data": {
      "text/plain": [
       "['1997', '2011', '1993', '2020']"
      ]
     },
     "execution_count": 4,
     "metadata": {},
     "output_type": "execute_result"
    }
   ],
   "source": [
    "Batch = ['15-06-1997','15-06-2011','15-06-1993','15-06-2020']\n",
    "lst =[]\n",
    "for i in Batch:\n",
    "    lst.append(i[-4:])\n",
    "lst\n",
    "    \n"
   ]
  },
  {
   "cell_type": "markdown",
   "metadata": {},
   "source": [
    "### 5. Write a program swap the keys to values and values to keys of the given dictionary"
   ]
  },
  {
   "cell_type": "markdown",
   "metadata": {},
   "source": [
    "**Module = {'Data Science':1,'Machine Learning':2, 'SQL':3, 'Big Data':4}**\n",
    "\n",
    "**Output: {1:'Data Science',2:'Machine Learning', 3:'SQL', 4:'Big Data'}**\n"
   ]
  },
  {
   "cell_type": "code",
   "execution_count": 5,
   "metadata": {},
   "outputs": [
    {
     "data": {
      "text/plain": [
       "{1: 'Data Science', 2: 'Machine Learning', 3: 'SQL', 4: 'Big Data'}"
      ]
     },
     "execution_count": 5,
     "metadata": {},
     "output_type": "execute_result"
    }
   ],
   "source": [
    "Module = {'Data Science':1,'Machine Learning':2, 'SQL':3, 'Big Data':4}\n",
    "dic = {}\n",
    "\n",
    "for key,value in Module.items():\n",
    "    dic[value] = key\n",
    "Module = dic\n",
    "Module\n",
    "\n"
   ]
  },
  {
   "cell_type": "markdown",
   "metadata": {},
   "source": [
    "### 6. Wrote a program to calculate the cumulative average of the given list using accumulate() and lambda function"
   ]
  },
  {
   "cell_type": "markdown",
   "metadata": {},
   "source": [
    "**Input list: [5,2,1,4,6]**"
   ]
  },
  {
   "cell_type": "code",
   "execution_count": 6,
   "metadata": {},
   "outputs": [
    {
     "data": {
      "text/plain": [
       "[5.0, 3.5, 2.67, 3.0, 3.6]"
      ]
     },
     "execution_count": 6,
     "metadata": {},
     "output_type": "execute_result"
    }
   ],
   "source": [
    "from itertools import accumulate\n",
    "lst = [5,2,1,4,6]\n",
    "cum_avg = lambda l: [round(list(accumulate(l))[i-1]/i, 2) for i in range(1, len(l)+1)]\n",
    "cum_avg(lst)"
   ]
  },
  {
   "cell_type": "markdown",
   "metadata": {},
   "source": [
    "### 7. Write a program to count the number of elements in the string (given by the user) that are not present in the 'my_string'. Do not count the white spaces\n",
    "\n",
    "Use Recursion"
   ]
  },
  {
   "cell_type": "markdown",
   "metadata": {},
   "source": [
    "**my_string = 'Data Science'**"
   ]
  },
  {
   "cell_type": "code",
   "execution_count": 7,
   "metadata": {},
   "outputs": [
    {
     "name": "stdout",
     "output_type": "stream",
     "text": [
      "Enter a string : Python programming\n",
      "12\n"
     ]
    }
   ],
   "source": [
    "my_string = 'Data Science'\n",
    "str1 = input('Enter a string : ')\n",
    "\n",
    "def count_num_of_diff_elements(my_string, str1, count):\n",
    "    if len(str1) == 0:\n",
    "        return count\n",
    "    else:\n",
    "        if str1[0] not in my_string:\n",
    "              return count_num_of_diff_elements(my_string, str1[1:], count+1)\n",
    "        else:\n",
    "              return count_num_of_diff_elements(my_string, str1[1:], count)\n",
    "\n",
    "print(count_num_of_diff_elements((my_string.replace(' ', '')).lower(), (str1.replace(' ', '')).lower(), 0))"
   ]
  },
  {
   "cell_type": "markdown",
   "metadata": {},
   "source": [
    "### 8.  Define a function to check whether a number is in a range (1000,10000) or not"
   ]
  },
  {
   "cell_type": "code",
   "execution_count": 8,
   "metadata": {},
   "outputs": [
    {
     "name": "stdout",
     "output_type": "stream",
     "text": [
      "Enter the number to check : 56765\n"
     ]
    },
    {
     "data": {
      "text/plain": [
       "False"
      ]
     },
     "execution_count": 8,
     "metadata": {},
     "output_type": "execute_result"
    }
   ],
   "source": [
    "n = int(input('Enter the number to check : '))\n",
    "def funct(n):\n",
    "    if n>=1000 and n<=10000:\n",
    "        return True\n",
    "    else:\n",
    "        return False\n",
    "funct(n)\n",
    "        "
   ]
  },
  {
   "cell_type": "markdown",
   "metadata": {},
   "source": [
    "### 9. Write a program to print pascal triangle upto 6 steps (using list)"
   ]
  },
  {
   "cell_type": "code",
   "execution_count": 9,
   "metadata": {},
   "outputs": [
    {
     "name": "stdout",
     "output_type": "stream",
     "text": [
      "5\n",
      "1 \n",
      "1 1 \n",
      "1 2 1 \n",
      "1 3 3 1 \n",
      "1 4 6 4 1 \n"
     ]
    }
   ],
   "source": [
    "def printPascal(n):  \n",
    "  \n",
    "    for k in range(1, n + 1):  \n",
    "        C = 1; \n",
    "        for i in range(1, k + 1):  \n",
    "                \n",
    "            print(C, end = \" \");  \n",
    "            C = int(C * (k - i) / i);  \n",
    "        print(\"\");  \n",
    "\n",
    "n= int(input());  \n",
    "printPascal(n); \n",
    "  "
   ]
  },
  {
   "cell_type": "markdown",
   "metadata": {},
   "source": [
    "### 10. Write a program to calculate the sum of all elements in the list"
   ]
  },
  {
   "cell_type": "markdown",
   "metadata": {},
   "source": [
    "**test_score = [10, 32, 23, 14, 25]**"
   ]
  },
  {
   "cell_type": "code",
   "execution_count": 10,
   "metadata": {},
   "outputs": [
    {
     "data": {
      "text/plain": [
       "104"
      ]
     },
     "execution_count": 10,
     "metadata": {},
     "output_type": "execute_result"
    }
   ],
   "source": [
    "test_score = [10, 32, 23, 14, 25]\n",
    "sum(test_score)"
   ]
  },
  {
   "cell_type": "markdown",
   "metadata": {},
   "source": [
    "### 11. Find the minimum value along each of the rows"
   ]
  },
  {
   "cell_type": "markdown",
   "metadata": {},
   "source": [
    "Create a 2D Numpy array from list of lists<br>\n",
    "\n",
    "Score = np.array([[210, 402, 383],<br>\n",
    "                 [140, 375, 106], <br>\n",
    "                 [140, 125, 217], <br>\n",
    "                 [292, 240, 295]])"
   ]
  },
  {
   "cell_type": "code",
   "execution_count": 12,
   "metadata": {},
   "outputs": [
    {
     "name": "stdout",
     "output_type": "stream",
     "text": [
      "210\n",
      "106\n",
      "125\n",
      "240\n"
     ]
    }
   ],
   "source": [
    "import numpy as np\n",
    "Score = np.array([[210, 402, 383],\n",
    "[140, 375, 106],\n",
    "[140, 125, 217],\n",
    "[292, 240, 295]])\n",
    "for i in Score:\n",
    "    print(min(i))"
   ]
  },
  {
   "cell_type": "markdown",
   "metadata": {},
   "source": [
    "### 12.  Replace all even numbers in the array with -1"
   ]
  },
  {
   "cell_type": "markdown",
   "metadata": {},
   "source": [
    "Use the array given below\n",
    "\n",
    "    num_array = np.array([0, 21, 32, 13, 44, 45, 26, 28, 38, 34, 65, 48, 76])"
   ]
  },
  {
   "cell_type": "code",
   "execution_count": 13,
   "metadata": {},
   "outputs": [
    {
     "data": {
      "text/plain": [
       "array([-1, 21, -1, 13, -1, 45, -1, -1, -1, -1, 65, -1, -1])"
      ]
     },
     "execution_count": 13,
     "metadata": {},
     "output_type": "execute_result"
    }
   ],
   "source": [
    "import numpy as np\n",
    "num_array = np.array([0, 21, 32, 13, 44, 45, 26, 28, 38, 34, 65, 48, 76])\n",
    "for i in range(len(num_array)):\n",
    "    if num_array[i] %2==0:\n",
    "        num_array[i]=-1\n",
    "num_array\n",
    "    "
   ]
  },
  {
   "cell_type": "markdown",
   "metadata": {},
   "source": [
    "### 13. Create a pandas series having values 4, 8, -1, 2, NAN and their index as d, b, a, c, e"
   ]
  },
  {
   "cell_type": "code",
   "execution_count": 14,
   "metadata": {},
   "outputs": [
    {
     "data": {
      "text/plain": [
       "d      4\n",
       "b      8\n",
       "a     -1\n",
       "c      2\n",
       "e    NaN\n",
       "dtype: object"
      ]
     },
     "execution_count": 14,
     "metadata": {},
     "output_type": "execute_result"
    }
   ],
   "source": [
    "import pandas as pd\n",
    "ser =pd.Series([4,8,-1,2,'NaN'],index=['d','b','a','c','e'])\n",
    "ser"
   ]
  },
  {
   "cell_type": "markdown",
   "metadata": {},
   "source": [
    "### 14. Add a new column 'Height' in the give dataframe"
   ]
  },
  {
   "cell_type": "markdown",
   "metadata": {},
   "source": [
    "<table>\n",
    "  <tr>\n",
    "  <th>Name </th>\n",
    "  <th>Weight</th>\n",
    "  </tr>\n",
    "  <tr>\n",
    "  <td>Mia</td>\n",
    "  <td>55</td>    \n",
    "  </tr>\n",
    "  <tr>\n",
    "  <td>Joy</td>\n",
    "  <td>66</td> \n",
    "  </tr>\n",
    "  <tr>\n",
    "  <td>Karan</td>\n",
    "  <td>80</td> \n",
    "  </tr>\n",
    "  <tr>\n",
    "  <td>George</td>\n",
    "  <td>67</td> \n",
    "</tr>\n",
    "</table>\n",
    "  "
   ]
  },
  {
   "cell_type": "markdown",
   "metadata": {},
   "source": [
    "New Column:\n",
    "<table>\n",
    "  <tr>\n",
    "  <th>Height</th>   \n",
    "  </tr>\n",
    "  <tr>\n",
    "  <td>5.5</td>\n",
    "  </tr>\n",
    "  <tr>\n",
    "  <td>6.7</td>\n",
    "  </tr>\n",
    "  <tr>\n",
    "  <td>5.8</td>\n",
    "  </tr>\n",
    "  <tr>\n",
    "  <td>6</td>\n",
    "</tr>\n",
    "</table>"
   ]
  },
  {
   "cell_type": "code",
   "execution_count": 15,
   "metadata": {},
   "outputs": [
    {
     "data": {
      "text/html": [
       "<div>\n",
       "<style scoped>\n",
       "    .dataframe tbody tr th:only-of-type {\n",
       "        vertical-align: middle;\n",
       "    }\n",
       "\n",
       "    .dataframe tbody tr th {\n",
       "        vertical-align: top;\n",
       "    }\n",
       "\n",
       "    .dataframe thead th {\n",
       "        text-align: right;\n",
       "    }\n",
       "</style>\n",
       "<table border=\"1\" class=\"dataframe\">\n",
       "  <thead>\n",
       "    <tr style=\"text-align: right;\">\n",
       "      <th></th>\n",
       "      <th>Weight</th>\n",
       "      <th>Height</th>\n",
       "    </tr>\n",
       "    <tr>\n",
       "      <th>Name</th>\n",
       "      <th></th>\n",
       "      <th></th>\n",
       "    </tr>\n",
       "  </thead>\n",
       "  <tbody>\n",
       "    <tr>\n",
       "      <th>Mia</th>\n",
       "      <td>55</td>\n",
       "      <td>5.5</td>\n",
       "    </tr>\n",
       "    <tr>\n",
       "      <th>Joy</th>\n",
       "      <td>66</td>\n",
       "      <td>6.7</td>\n",
       "    </tr>\n",
       "    <tr>\n",
       "      <th>Karan</th>\n",
       "      <td>80</td>\n",
       "      <td>5.8</td>\n",
       "    </tr>\n",
       "    <tr>\n",
       "      <th>George</th>\n",
       "      <td>67</td>\n",
       "      <td>6.0</td>\n",
       "    </tr>\n",
       "  </tbody>\n",
       "</table>\n",
       "</div>"
      ],
      "text/plain": [
       "        Weight  Height\n",
       "Name                  \n",
       "Mia         55     5.5\n",
       "Joy         66     6.7\n",
       "Karan       80     5.8\n",
       "George      67     6.0"
      ]
     },
     "execution_count": 15,
     "metadata": {},
     "output_type": "execute_result"
    }
   ],
   "source": [
    "import pandas as pd\n",
    "dic  = {'Name':['Mia','Joy','Karan','George'],'Weight':[55,66,80,67]}\n",
    "df = pd.DataFrame(dic)\n",
    "df.set_index('Name',inplace=True)\n",
    "df['Height'] = [5.5,6.7,5.8,6]\n",
    "df"
   ]
  },
  {
   "cell_type": "markdown",
   "metadata": {},
   "source": [
    "### 15. Use the data created in question 14, to do the following:\n",
    "Access column 'Name' by specifying the column number<br>\n",
    "Access column 'Height' by specifying the column name"
   ]
  },
  {
   "cell_type": "code",
   "execution_count": 16,
   "metadata": {},
   "outputs": [
    {
     "name": "stdout",
     "output_type": "stream",
     "text": [
      "Name\n",
      "Mia       55\n",
      "Joy       66\n",
      "Karan     80\n",
      "George    67\n",
      "Name: Weight, dtype: int64\n"
     ]
    },
    {
     "data": {
      "text/plain": [
       "Name\n",
       "Mia       5.5\n",
       "Joy       6.7\n",
       "Karan     5.8\n",
       "George    6.0\n",
       "Name: Height, dtype: float64"
      ]
     },
     "execution_count": 16,
     "metadata": {},
     "output_type": "execute_result"
    }
   ],
   "source": [
    "print(df.iloc[:,0])\n",
    "df['Height']"
   ]
  },
  {
   "cell_type": "markdown",
   "metadata": {},
   "source": [
    "### 16. Find duplicate rows based on the column 'Order_ID'"
   ]
  },
  {
   "cell_type": "markdown",
   "metadata": {},
   "source": [
    "**Use the dataframe given below:**\n",
    "   \n",
    "<table>\n",
    "<tr>\n",
    "<th>Order_ID</th>\n",
    "<th>Product</th>\n",
    "<th>City</th>\n",
    "</tr>\n",
    "<tr>\n",
    "<td>YZ1100</td>\n",
    "<td>Cell Phone</td>\n",
    "<td>Sydeny</td>\n",
    "</tr>\n",
    "<tr>\n",
    "<td>RW1200</td>\n",
    "<td>Watch</td>\n",
    "<td>Chicago</td>\n",
    "</tr>\n",
    "<tr>\n",
    "<td>YZ1100</td>\n",
    "<td>Cell Phone</td>\n",
    "<td>New York</td>\n",
    "</tr>\n",
    "<tr>\n",
    "<td>TY1400</td>\n",
    "<td>Charger</td>\n",
    "<td>Chicago</td>\n",
    "</tr>\n",
    "<tr>\n",
    "<td>VB1500</td>\n",
    "<td>Watch</td>\n",
    "<td>Chicago</td>\n",
    "</tr>\n",
    "<tr>\n",
    "<td>TY1400</td>\n",
    "<td>Headphones</td>\n",
    "<td>Texas</td>\n",
    "</tr>\n",
    "<tr>\n",
    "<td>MW1600</td>\n",
    "<td>Charger</td>\n",
    "<td>New York</td>\n",
    "</tr>\n",
    "<tr>\n",
    "<td>CN1600</td>\n",
    "<td>Headphones</td>\n",
    "<td>Chicago</td>\n",
    "</tr>\n",
    "   \n",
    "</table>"
   ]
  },
  {
   "cell_type": "code",
   "execution_count": 17,
   "metadata": {},
   "outputs": [
    {
     "data": {
      "text/html": [
       "<div>\n",
       "<style scoped>\n",
       "    .dataframe tbody tr th:only-of-type {\n",
       "        vertical-align: middle;\n",
       "    }\n",
       "\n",
       "    .dataframe tbody tr th {\n",
       "        vertical-align: top;\n",
       "    }\n",
       "\n",
       "    .dataframe thead th {\n",
       "        text-align: right;\n",
       "    }\n",
       "</style>\n",
       "<table border=\"1\" class=\"dataframe\">\n",
       "  <thead>\n",
       "    <tr style=\"text-align: right;\">\n",
       "      <th></th>\n",
       "      <th>Order_ID</th>\n",
       "      <th>Product</th>\n",
       "      <th>City</th>\n",
       "    </tr>\n",
       "  </thead>\n",
       "  <tbody>\n",
       "  </tbody>\n",
       "</table>\n",
       "</div>"
      ],
      "text/plain": [
       "Empty DataFrame\n",
       "Columns: [Order_ID, Product, City]\n",
       "Index: []"
      ]
     },
     "execution_count": 17,
     "metadata": {},
     "output_type": "execute_result"
    }
   ],
   "source": [
    "dic = {'Order_ID':['YZ1100','RW1200','YZ1100','TY1400','VB1500','TY1400','MW1600','CN1600'],\n",
    "       'Product' : ['Cell Phone','Watch','Cell Phone','Charger','Watch','Headphones','Charger','Headphones'],\n",
    "       'City' : ['Sydeny','Chicago','New York','Chicago','Chicago','Texas','New York','Chicago']\n",
    "      }\n",
    "df = pd.DataFrame(dic)\n",
    "dfd = df[df.duplicated()]\n",
    "dfd"
   ]
  },
  {
   "cell_type": "markdown",
   "metadata": {},
   "source": [
    "### 17. Use the data created in question 16, to do the following:\n",
    "In column 'Product', replace all the 'Cell Phone' values with 'Mobile' using numpy.where\n"
   ]
  },
  {
   "cell_type": "code",
   "execution_count": 18,
   "metadata": {},
   "outputs": [
    {
     "data": {
      "text/html": [
       "<div>\n",
       "<style scoped>\n",
       "    .dataframe tbody tr th:only-of-type {\n",
       "        vertical-align: middle;\n",
       "    }\n",
       "\n",
       "    .dataframe tbody tr th {\n",
       "        vertical-align: top;\n",
       "    }\n",
       "\n",
       "    .dataframe thead th {\n",
       "        text-align: right;\n",
       "    }\n",
       "</style>\n",
       "<table border=\"1\" class=\"dataframe\">\n",
       "  <thead>\n",
       "    <tr style=\"text-align: right;\">\n",
       "      <th></th>\n",
       "      <th>Order_ID</th>\n",
       "      <th>Product</th>\n",
       "      <th>City</th>\n",
       "    </tr>\n",
       "  </thead>\n",
       "  <tbody>\n",
       "    <tr>\n",
       "      <th>0</th>\n",
       "      <td>YZ1100</td>\n",
       "      <td>Mobile</td>\n",
       "      <td>Sydeny</td>\n",
       "    </tr>\n",
       "    <tr>\n",
       "      <th>1</th>\n",
       "      <td>RW1200</td>\n",
       "      <td>Watch</td>\n",
       "      <td>Chicago</td>\n",
       "    </tr>\n",
       "    <tr>\n",
       "      <th>2</th>\n",
       "      <td>YZ1100</td>\n",
       "      <td>Mobile</td>\n",
       "      <td>New York</td>\n",
       "    </tr>\n",
       "    <tr>\n",
       "      <th>3</th>\n",
       "      <td>TY1400</td>\n",
       "      <td>Charger</td>\n",
       "      <td>Chicago</td>\n",
       "    </tr>\n",
       "    <tr>\n",
       "      <th>4</th>\n",
       "      <td>VB1500</td>\n",
       "      <td>Watch</td>\n",
       "      <td>Chicago</td>\n",
       "    </tr>\n",
       "    <tr>\n",
       "      <th>5</th>\n",
       "      <td>TY1400</td>\n",
       "      <td>Headphones</td>\n",
       "      <td>Texas</td>\n",
       "    </tr>\n",
       "    <tr>\n",
       "      <th>6</th>\n",
       "      <td>MW1600</td>\n",
       "      <td>Charger</td>\n",
       "      <td>New York</td>\n",
       "    </tr>\n",
       "    <tr>\n",
       "      <th>7</th>\n",
       "      <td>CN1600</td>\n",
       "      <td>Headphones</td>\n",
       "      <td>Chicago</td>\n",
       "    </tr>\n",
       "  </tbody>\n",
       "</table>\n",
       "</div>"
      ],
      "text/plain": [
       "  Order_ID     Product      City\n",
       "0   YZ1100      Mobile    Sydeny\n",
       "1   RW1200       Watch   Chicago\n",
       "2   YZ1100      Mobile  New York\n",
       "3   TY1400     Charger   Chicago\n",
       "4   VB1500       Watch   Chicago\n",
       "5   TY1400  Headphones     Texas\n",
       "6   MW1600     Charger  New York\n",
       "7   CN1600  Headphones   Chicago"
      ]
     },
     "execution_count": 18,
     "metadata": {},
     "output_type": "execute_result"
    }
   ],
   "source": [
    "import numpy as np\n",
    "# for i in df['Product']:\n",
    "df['Product'] = np.where(df['Product']=='Cell Phone','Mobile',df['Product'])\n",
    "df"
   ]
  },
  {
   "cell_type": "markdown",
   "metadata": {},
   "source": [
    "### 18. Perform right join to combine values based on the 'ID' in the two dataframes"
   ]
  },
  {
   "cell_type": "markdown",
   "metadata": {},
   "source": [
    "**Use the dataframe given below:**\n",
    "   \n",
    "<table>\n",
    "    <tr>\n",
    "        <th>ID</th>\n",
    "        <th>Candidate_Name</th>\n",
    "        <th>Subject</th>\n",
    "    </tr>\n",
    "    <tr>\n",
    "        <td>101</td>\n",
    "        <td>Alex</td>\n",
    "        <td>History</td>\n",
    "    </tr>\n",
    "    <tr>\n",
    "        <td>102</td>\n",
    "        <td>Amy</td>\n",
    "        <td>English</td>\n",
    "    </tr>\n",
    "    <tr>\n",
    "        <td>103</td>\n",
    "        <td>Allen</td>\n",
    "        <td>Geography</td>\n",
    "    </tr>\n",
    "    <tr>\n",
    "        <td>104</td>\n",
    "        <td>Alice</td>\n",
    "        <td>German</td>\n",
    "    </tr>\n",
    "        <td>105</td>\n",
    "        <td>James</td>\n",
    "        <td>History</td>\n",
    "    </tr>\n",
    "    <tr>\n",
    "        <td>106</td>\n",
    "        <td>Sara</td>\n",
    "        <td>German</td>\n",
    "    </tr>\n",
    "    <tr>\n",
    "        <td>107</td>\n",
    "        <td>Mia</td>\n",
    "        <td>English</td>\n",
    "    </tr>  \n",
    "</table>\n",
    "<br>\n",
    "\n",
    "\n",
    "\n",
    "<table>\n",
    "    <tr>\n",
    "        <th>ID</th>\n",
    "        <th>City</th>\n",
    "        <th>Subject_Score</th>\n",
    "    </tr>\n",
    "    <tr>\n",
    "        <td>101</td>\n",
    "        <td>Delhi</td>\n",
    "        <td>89</td>\n",
    "    </tr>\n",
    "    <tr>\n",
    "        <td>102</td>\n",
    "        <td>Mumbai</td>\n",
    "        <td>78</td>\n",
    "    </tr>\n",
    "    <tr>\n",
    "        <td>103</td>\n",
    "        <td>Delhi</td>\n",
    "        <td>77</td>\n",
    "    </tr>\n",
    "    <tr>\n",
    "        <td>104</td>\n",
    "        <td>Chennai</td>\n",
    "        <td>87</td>\n",
    "    </tr>\n",
    "    <tr>\n",
    "        <td>105</td>\n",
    "        <td>Hyderabad</td>\n",
    "        <td>87</td>\n",
    "    </tr>\n",
    "        <td>108</td>\n",
    "        <td>Delhi</td>\n",
    "        <td>84</td>\n",
    "\n",
    "    </tr>\n",
    "</table>"
   ]
  },
  {
   "cell_type": "code",
   "execution_count": 19,
   "metadata": {},
   "outputs": [
    {
     "data": {
      "text/html": [
       "<div>\n",
       "<style scoped>\n",
       "    .dataframe tbody tr th:only-of-type {\n",
       "        vertical-align: middle;\n",
       "    }\n",
       "\n",
       "    .dataframe tbody tr th {\n",
       "        vertical-align: top;\n",
       "    }\n",
       "\n",
       "    .dataframe thead th {\n",
       "        text-align: right;\n",
       "    }\n",
       "</style>\n",
       "<table border=\"1\" class=\"dataframe\">\n",
       "  <thead>\n",
       "    <tr style=\"text-align: right;\">\n",
       "      <th></th>\n",
       "      <th>ID</th>\n",
       "      <th>Candidate_Name</th>\n",
       "      <th>Subject</th>\n",
       "      <th>City</th>\n",
       "      <th>Subject_Score</th>\n",
       "    </tr>\n",
       "  </thead>\n",
       "  <tbody>\n",
       "    <tr>\n",
       "      <th>0</th>\n",
       "      <td>101</td>\n",
       "      <td>Alex</td>\n",
       "      <td>History</td>\n",
       "      <td>Delhi</td>\n",
       "      <td>89</td>\n",
       "    </tr>\n",
       "    <tr>\n",
       "      <th>1</th>\n",
       "      <td>102</td>\n",
       "      <td>Amy</td>\n",
       "      <td>English</td>\n",
       "      <td>Mumbai</td>\n",
       "      <td>78</td>\n",
       "    </tr>\n",
       "    <tr>\n",
       "      <th>2</th>\n",
       "      <td>103</td>\n",
       "      <td>Allen</td>\n",
       "      <td>Geography</td>\n",
       "      <td>Delhi</td>\n",
       "      <td>77</td>\n",
       "    </tr>\n",
       "    <tr>\n",
       "      <th>3</th>\n",
       "      <td>104</td>\n",
       "      <td>Alice</td>\n",
       "      <td>German</td>\n",
       "      <td>Chennai</td>\n",
       "      <td>87</td>\n",
       "    </tr>\n",
       "    <tr>\n",
       "      <th>4</th>\n",
       "      <td>105</td>\n",
       "      <td>James</td>\n",
       "      <td>History</td>\n",
       "      <td>Hyderabad</td>\n",
       "      <td>87</td>\n",
       "    </tr>\n",
       "    <tr>\n",
       "      <th>5</th>\n",
       "      <td>108</td>\n",
       "      <td>NaN</td>\n",
       "      <td>NaN</td>\n",
       "      <td>Delhi</td>\n",
       "      <td>84</td>\n",
       "    </tr>\n",
       "  </tbody>\n",
       "</table>\n",
       "</div>"
      ],
      "text/plain": [
       "    ID Candidate_Name    Subject       City  Subject_Score\n",
       "0  101           Alex    History      Delhi             89\n",
       "1  102            Amy    English     Mumbai             78\n",
       "2  103          Allen  Geography      Delhi             77\n",
       "3  104          Alice     German    Chennai             87\n",
       "4  105          James    History  Hyderabad             87\n",
       "5  108            NaN        NaN      Delhi             84"
      ]
     },
     "execution_count": 19,
     "metadata": {},
     "output_type": "execute_result"
    }
   ],
   "source": [
    "dic1 = {'ID':[101,102,103,104,105,106,107],\n",
    "        'Candidate_Name':['Alex','Amy','Allen','Alice','James','Sara','Mia'],\n",
    "       'Subject':['History','English','Geography','German','History','German','English']}\n",
    "dic2 = {'ID':[101,102,103,104,105,108],\n",
    "       'City':['Delhi','Mumbai','Delhi','Chennai','Hyderabad','Delhi'],\n",
    "       'Subject_Score':[89,78,77,87,87,84]}\n",
    "df1 = pd.DataFrame(dic1)\n",
    "df2 = pd.DataFrame(dic2)\n",
    "# print(df1)\n",
    "# df2\n",
    "df3 = pd.merge(df1,df2,on='ID',how='right')\n",
    "df3"
   ]
  },
  {
   "cell_type": "markdown",
   "metadata": {},
   "source": [
    "### 19. Use the following data to plot a pie chart and annotate the percentage sales"
   ]
  },
  {
   "cell_type": "markdown",
   "metadata": {},
   "source": [
    "<table>\n",
    "    <tr>\n",
    "        <th>City</th>\n",
    "        <th>Sales</th>\n",
    "    </tr>\n",
    "    <tr>\n",
    "        <td>Delhi</td>\n",
    "        <td>890</td>\n",
    "    </tr>\n",
    "    <tr>\n",
    "        <td>Mumbai</td>\n",
    "        <td>784</td>\n",
    "    </tr>\n",
    "    <tr>\n",
    "        <td>Delhi</td>\n",
    "        <td>775</td>\n",
    "    </tr>\n",
    "    <tr>\n",
    "        <td>Chennai</td>\n",
    "        <td>873</td>\n",
    "    </tr>\n",
    "    <tr>\n",
    "        <td>Hyderabad</td>\n",
    "        <td>387</td>\n",
    "    </tr>\n",
    "        <td>Delhi</td>\n",
    "        <td>684</td>\n",
    "\n",
    "    </tr>\n",
    "</table>"
   ]
  },
  {
   "cell_type": "code",
   "execution_count": 20,
   "metadata": {},
   "outputs": [
    {
     "data": {
      "image/png": "[encoded data removed]",
      "text/plain": [
       "<Figure size 432x288 with 1 Axes>"
      ]
     },
     "metadata": {},
     "output_type": "display_data"
    }
   ],
   "source": [
    "import matplotlib.pyplot as plt\n",
    "dic = {'City':['Delhi','Mumbai','Delhi','Chennai','Hyderabad','Delhi'],'Sales':[890,784,775,873,387,684]}\n",
    "df = pd.DataFrame(dic)\n",
    "\n",
    "plt.pie(df['Sales'],labels = df['City'],autopct ='%0.2f')\n",
    "plt.show()"
   ]
  },
  {
   "cell_type": "markdown",
   "metadata": {},
   "source": [
    "### 20. Use the data created in question 19, to do the following:\n",
    "Calculate minimum, maximum and average sales for each origin"
   ]
  },
  {
   "cell_type": "code",
   "execution_count": 21,
   "metadata": {},
   "outputs": [
    {
     "name": "stdout",
     "output_type": "stream",
     "text": [
      "           Sales\n",
      "City            \n",
      "Chennai      873\n",
      "Delhi        684\n",
      "Hyderabad    387\n",
      "Mumbai       784\n",
      "           Sales\n",
      "City            \n",
      "Chennai      873\n",
      "Delhi        890\n",
      "Hyderabad    387\n",
      "Mumbai       784\n",
      "           Sales\n",
      "City            \n",
      "Chennai      873\n",
      "Delhi        783\n",
      "Hyderabad    387\n",
      "Mumbai       784\n"
     ]
    }
   ],
   "source": [
    "df_min = df.groupby('City').min()\n",
    "df_max = df.groupby('City').max()\n",
    "df_avg = df.groupby('City').mean()\n",
    "print(df_min)\n",
    "print(df_max)\n",
    "print(df_avg)\n"
   ]
  },
  {
   "cell_type": "code",
   "execution_count": null,
   "metadata": {},
   "outputs": [],
   "source": []
  }
 ],
 "metadata": {
  "kernelspec": {
   "display_name": "Python 3",
   "language": "python",
   "name": "python3"
  },
  "language_info": {
   "codemirror_mode": {
    "name": "ipython",
    "version": 3
   },
   "file_extension": ".py",
   "mimetype": "text/x-python",
   "name": "python",
   "nbconvert_exporter": "python",
   "pygments_lexer": "ipython3",
   "version": "3.8.5"
  }
 },
 "nbformat": 4,
 "nbformat_minor": 2
}
