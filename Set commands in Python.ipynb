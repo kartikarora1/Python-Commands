{
 "cells": [
  {
   "cell_type": "markdown",
   "metadata": {},
   "source": [
    "# Set commands in Python"
   ]
  },
  {
   "cell_type": "markdown",
   "metadata": {},
   "source": [
    "# 1.add()"
   ]
  },
  {
   "cell_type": "code",
   "execution_count": 1,
   "metadata": {},
   "outputs": [
    {
     "name": "stdout",
     "output_type": "stream",
     "text": [
      "{'india', 'japan', 'germany', 'Poland', 'USA', 'singapore'}\n"
     ]
    }
   ],
   "source": [
    "set={\"india\",\"germany\",\"USA\",\"japan\",\"Poland\"}\n",
    "set.add(\"singapore\")\n",
    "print(set)"
   ]
  },
  {
   "cell_type": "code",
   "execution_count": null,
   "metadata": {},
   "outputs": [],
   "source": [
    "2.clear()"
   ]
  },
  {
   "cell_type": "code",
   "execution_count": 2,
   "metadata": {},
   "outputs": [
    {
     "name": "stdout",
     "output_type": "stream",
     "text": [
      "set()\n"
     ]
    }
   ],
   "source": [
    "set={\"india\",\"germany\",\"USA\",\"japan\",\"Poland\"}\n",
    "set.clear()\n",
    "print(set)"
   ]
  },
  {
   "cell_type": "markdown",
   "metadata": {},
   "source": [
    "# 3.copy()"
   ]
  },
  {
   "cell_type": "code",
   "execution_count": 3,
   "metadata": {},
   "outputs": [
    {
     "name": "stdout",
     "output_type": "stream",
     "text": [
      "{'india', 'japan', 'germany', 'USA', 'Poland'}\n"
     ]
    }
   ],
   "source": [
    "set={\"india\",\"germany\",\"USA\",\"japan\",\"Poland\"}\n",
    "x=set.copy()\n",
    "print(x)"
   ]
  },
  {
   "cell_type": "markdown",
   "metadata": {},
   "source": [
    "# 4.difference()"
   ]
  },
  {
   "cell_type": "code",
   "execution_count": 8,
   "metadata": {},
   "outputs": [
    {
     "name": "stdout",
     "output_type": "stream",
     "text": [
      "{'USA', 'india', 'japan'}\n",
      "{'russia', 'bhutan', 'nepal'}\n"
     ]
    }
   ],
   "source": [
    "set1={\"india\",\"germany\",\"USA\",\"japan\",\"Poland\"}\n",
    "set2={\"nepal\",\"germany\",\"bhutan\",\"russia\",\"Poland\"}\n",
    "x=set1.difference(set2)\n",
    "y=set2.difference(set1)\n",
    "print(x)\n",
    "print(y)"
   ]
  },
  {
   "cell_type": "markdown",
   "metadata": {},
   "source": [
    "# 5.discard()"
   ]
  },
  {
   "cell_type": "code",
   "execution_count": 7,
   "metadata": {},
   "outputs": [
    {
     "name": "stdout",
     "output_type": "stream",
     "text": [
      "{'india', 'japan', 'germany', 'Poland'}\n"
     ]
    }
   ],
   "source": [
    "set={\"india\",\"germany\",\"USA\",\"japan\",\"Poland\"}\n",
    "set.discard(\"USA\")\n",
    "print(set)"
   ]
  },
  {
   "cell_type": "markdown",
   "metadata": {},
   "source": [
    "# 6.intersection()"
   ]
  },
  {
   "cell_type": "code",
   "execution_count": 10,
   "metadata": {},
   "outputs": [
    {
     "name": "stdout",
     "output_type": "stream",
     "text": [
      "{'Poland', 'germany'}\n"
     ]
    }
   ],
   "source": [
    "set1={\"india\",\"germany\",\"USA\",\"japan\",\"Poland\"}\n",
    "set2={\"nepal\",\"germany\",\"bhutan\",\"russia\",\"Poland\"}\n",
    "x=set1.intersection(set2)\n",
    "print(x)"
   ]
  },
  {
   "cell_type": "markdown",
   "metadata": {},
   "source": [
    "# 7.isdisjoint()"
   ]
  },
  {
   "cell_type": "code",
   "execution_count": 13,
   "metadata": {},
   "outputs": [
    {
     "name": "stdout",
     "output_type": "stream",
     "text": [
      "False\n"
     ]
    }
   ],
   "source": [
    "set1={\"india\",\"germany\",\"USA\",\"japan\",\"Poland\"}\n",
    "set2={\"nepal\",\"germany\",\"bhutan\",\"russia\",\"Poland\"}\n",
    "x=set1.isdisjoint(set2)\n",
    "print(x)"
   ]
  },
  {
   "cell_type": "markdown",
   "metadata": {},
   "source": [
    "# 8.issubset() "
   ]
  },
  {
   "cell_type": "code",
   "execution_count": 14,
   "metadata": {},
   "outputs": [
    {
     "name": "stdout",
     "output_type": "stream",
     "text": [
      "True\n"
     ]
    }
   ],
   "source": [
    "set1={\"india\",\"germany\",\"USA\",\"japan\",\"Poland\"}\n",
    "set2={\"nepal\",\"germany\",\"bhutan\",\"russia\",\"Poland\",\"india\",\"USA\",\"japan\"}\n",
    "x=set1.issubset(set2)\n",
    "print(x)"
   ]
  },
  {
   "cell_type": "markdown",
   "metadata": {},
   "source": [
    "# 9.issuperset()"
   ]
  },
  {
   "cell_type": "code",
   "execution_count": 15,
   "metadata": {},
   "outputs": [
    {
     "name": "stdout",
     "output_type": "stream",
     "text": [
      "False\n"
     ]
    }
   ],
   "source": [
    "set1={\"india\",\"germany\",\"USA\",\"japan\",\"Poland\"}\n",
    "set2={\"nepal\",\"germany\",\"bhutan\",\"russia\",\"Poland\",\"india\",\"USA\",\"japan\"}\n",
    "x=set1.issuperset(set2)\n",
    "print(x)"
   ]
  },
  {
   "cell_type": "markdown",
   "metadata": {},
   "source": [
    "# 10.pop()"
   ]
  },
  {
   "cell_type": "code",
   "execution_count": 17,
   "metadata": {},
   "outputs": [
    {
     "name": "stdout",
     "output_type": "stream",
     "text": [
      "{'japan', 'germany', 'Poland', 'USA'}\n"
     ]
    }
   ],
   "source": [
    "set={\"india\",\"germany\",\"USA\",\"japan\",\"Poland\"}\n",
    "set.pop()\n",
    "print(set)"
   ]
  },
  {
   "cell_type": "markdown",
   "metadata": {},
   "source": [
    "# 11.remove()"
   ]
  },
  {
   "cell_type": "code",
   "execution_count": 19,
   "metadata": {},
   "outputs": [
    {
     "name": "stdout",
     "output_type": "stream",
     "text": [
      "{'india', 'germany', 'Poland', 'USA'}\n"
     ]
    }
   ],
   "source": [
    "set={\"india\",\"germany\",\"USA\",\"japan\",\"Poland\"}\n",
    "set.remove(\"japan\")\n",
    "print(set)"
   ]
  },
  {
   "cell_type": "markdown",
   "metadata": {},
   "source": [
    "# 12.union()"
   ]
  },
  {
   "cell_type": "code",
   "execution_count": 21,
   "metadata": {},
   "outputs": [
    {
     "name": "stdout",
     "output_type": "stream",
     "text": [
      "{'bhutan', 'india', 'japan', 'germany', 'Poland', 'nepal', 'russia', 'USA'}\n"
     ]
    }
   ],
   "source": [
    "set1={\"india\",\"germany\",\"USA\",\"japan\",\"Poland\"}\n",
    "set2={\"nepal\",\"germany\",\"bhutan\",\"russia\",\"Poland\"}\n",
    "x=set1.union(set2)\n",
    "print(x)"
   ]
  },
  {
   "cell_type": "code",
   "execution_count": null,
   "metadata": {},
   "outputs": [],
   "source": []
  }
 ],
 "metadata": {
  "kernelspec": {
   "display_name": "Python 3",
   "language": "python",
   "name": "python3"
  },
  "language_info": {
   "codemirror_mode": {
    "name": "ipython",
    "version": 3
   },
   "file_extension": ".py",
   "mimetype": "text/x-python",
   "name": "python",
   "nbconvert_exporter": "python",
   "pygments_lexer": "ipython3",
   "version": "3.8.5"
  }
 },
 "nbformat": 4,
 "nbformat_minor": 4
}
