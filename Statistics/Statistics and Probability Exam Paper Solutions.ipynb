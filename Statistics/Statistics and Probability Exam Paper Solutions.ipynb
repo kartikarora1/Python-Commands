{
 "cells": [
  {
   "cell_type": "markdown",
   "metadata": {},
   "source": [
    "# Statistics and Probability Exam Paper Solutions"
   ]
  },
  {
   "cell_type": "code",
   "execution_count": 1,
   "metadata": {},
   "outputs": [],
   "source": [
    "import numpy as np\n",
    "import pandas as pd\n",
    "from scipy import stats\n",
    "import scipy"
   ]
  },
  {
   "cell_type": "markdown",
   "metadata": {},
   "source": [
    " # 1. From the pack of 52 cards, three cards are drawn randomly without replacement then what is the probability that one card is a diamond, one card is a heart and one is spade?"
   ]
  },
  {
   "cell_type": "code",
   "execution_count": 2,
   "metadata": {},
   "outputs": [
    {
     "name": "stdout",
     "output_type": "stream",
     "text": [
      "Probability of Diamond:  0.25 | Probability of Heart:  0.2549019607843137 | Probability of Spade:  0.26\n"
     ]
    }
   ],
   "source": [
    "probability_of_selecting_card = 1/52\n",
    "prob_ofdiamond = 13/52\n",
    "prob_ofheart = 13/51\n",
    "prob_ofspade = 13/50\n",
    "print(\"Probability of Diamond: \",prob_ofdiamond,\"| Probability of Heart: \",prob_ofheart,\"| Probability of Spade: \",prob_ofspade)"
   ]
  },
  {
   "cell_type": "markdown",
   "metadata": {},
   "source": [
    "# 2. The information gained by a survey done by a production company: 42 % of the respondents said that they like action movies, 54 % like comedy movies, 36 % like drama movies, and 12 % like horror movies. If a person is selected at random, find the probability that his or her,\n",
    "a. Favorite movie type is either action or drama.\n",
    "b. Favorite movie type is either comedy or horror."
   ]
  },
  {
   "cell_type": "code",
   "execution_count": 3,
   "metadata": {},
   "outputs": [
    {
     "name": "stdout",
     "output_type": "stream",
     "text": [
      "prob_of_actio_drama 0.78 prob_of_comedy_horror :  0.66\n"
     ]
    }
   ],
   "source": [
    "prob_of_actio_drama = (42+36)/100\n",
    "prob_of_comedy_horror = (54+12)/100\n",
    "print(\"prob_of_actio_drama\",prob_of_actio_drama,\"prob_of_comedy_horror : \",prob_of_comedy_horror)"
   ]
  },
  {
   "cell_type": "markdown",
   "metadata": {},
   "source": [
    "# 3. A bag A contains 3 red and 5 black balls and bag B contains 4 white and 7 black balls. A bag is selected randomly and a ball is drawn from it. A drawn ball is observed to be black. Find the probability that bag ‘B ’ was selected."
   ]
  },
  {
   "cell_type": "code",
   "execution_count": 4,
   "metadata": {},
   "outputs": [
    {
     "name": "stdout",
     "output_type": "stream",
     "text": [
      "prob_of_ball_drawn_black_in_B :  0.505\n"
     ]
    }
   ],
   "source": [
    "total_balls_in_A = 8\n",
    "total_balls_in_B = 11\n",
    "prob_bag_select = 1/2\n",
    "prob_of_black_in_A = (1/2)*(5/8)\n",
    "prob_of_black_in_B = (1/2)*(7/11)\n",
    "prob_of_ball_drawn_black_in_B = (prob_of_black_in_B)/(prob_of_black_in_A+prob_of_black_in_B)\n",
    "print(\"prob_of_ball_drawn_black_in_B : \",round(prob_of_ball_drawn_black_in_B,3))"
   ]
  },
  {
   "cell_type": "markdown",
   "metadata": {},
   "source": [
    "# 4. A MNC company receives 450 applications from applicants in one hour. Find the probability of: a. Receiving 10 applications in 1 minute. b. Receiving at least 17 applications in 2 minutes."
   ]
  },
  {
   "cell_type": "code",
   "execution_count": 5,
   "metadata": {},
   "outputs": [
    {
     "name": "stdout",
     "output_type": "stream",
     "text": [
      "0.08583037040867346\n",
      "0.08473555146882411\n"
     ]
    }
   ],
   "source": [
    "from scipy.stats import poisson\n",
    "\n",
    "prob_in_min = 450/60\n",
    "print(poisson.pmf(10,prob_in_min))# for a part\n",
    "print(poisson.pmf(17,prob_in_min*2))#for b part"
   ]
  },
  {
   "cell_type": "markdown",
   "metadata": {},
   "source": [
    "# 5. The government of state union has declared a free medical insurance for below poverty line population by using following assumptions: a. In every year, there can be at most one patient who needs medical insurance in a family. b. In every year, the probability of a medical emergency is 0.05. c. The number of patients in every year is independent. Using the assumptions, calculate the probability that there are fewer than 3 patients in a 10 years period in one family"
   ]
  },
  {
   "cell_type": "code",
   "execution_count": 6,
   "metadata": {},
   "outputs": [
    {
     "data": {
      "text/plain": [
       "3.906250000000002e-12"
      ]
     },
     "execution_count": 6,
     "metadata": {},
     "output_type": "execute_result"
    }
   ],
   "source": [
    "prob_patien_Year = 0.05\n",
    "prob_med_emr_10year = pow(0.05,10)\n",
    "prob_fewer_3 = pow(0.05,9) + pow(0.05,9)\n",
    "(prob_fewer_3)"
   ]
  },
  {
   "cell_type": "markdown",
   "metadata": {},
   "source": [
    "# 6. Suppose prices of new flats in Manchester are normally distributed with an average of $350870 and a standard deviation of $12405. Find the 75th percentile of prices among new homes in Manchester."
   ]
  },
  {
   "cell_type": "code",
   "execution_count": 7,
   "metadata": {},
   "outputs": [
    {
     "data": {
      "text/plain": [
       "359230.97"
      ]
     },
     "execution_count": 7,
     "metadata": {},
     "output_type": "execute_result"
    }
   ],
   "source": [
    "mn = 350870\n",
    "sd = 12405\n",
    "#for 75 percentile\n",
    "price = 0.674*(sd) + mn\n",
    "price"
   ]
  },
  {
   "cell_type": "markdown",
   "metadata": {},
   "source": [
    "# 7. The Department of Transportation of California claims that the average number of road accidents that are occurred in two cities - Union City and Mountain View - during the span of the last 12 months. Assuming that population variances are equal Compute the value of F-statistic by using the relation F = t2"
   ]
  },
  {
   "cell_type": "code",
   "execution_count": 8,
   "metadata": {},
   "outputs": [
    {
     "name": "stdout",
     "output_type": "stream",
     "text": [
      "0.9921235138705413\n"
     ]
    },
    {
     "data": {
      "text/plain": [
       "0.49488606021150344"
      ]
     },
     "execution_count": 8,
     "metadata": {},
     "output_type": "execute_result"
    }
   ],
   "source": [
    "union_city = [44,21,36,34,77,32,29,39,92,67,45,37]\n",
    "mountain_view = [47,81,41,79,38,20,33,83,41,40,69,36]\n",
    "df1 = len(union_city) - 1\n",
    "df2 = len(mountain_view) - 1\n",
    "F = np.var(union_city)/np.var(mountain_view)\n",
    "p_value = scipy.stats.f.cdf(F,df1,df2)\n",
    "print(F)\n",
    "p_value"
   ]
  },
  {
   "cell_type": "markdown",
   "metadata": {},
   "source": [
    "# 8. Annual project of university done by three groups of students with equal sample sizes. Each group was given a different task. After the final presentation students get the marks. The summary statistics are given below:Calculate F – statistics"
   ]
  },
  {
   "cell_type": "code",
   "execution_count": 9,
   "metadata": {},
   "outputs": [
    {
     "name": "stdout",
     "output_type": "stream",
     "text": [
      "Grp 1 and 2 : 0.5 |Critical: 1.0\n",
      "print for grp 2 and 3 : 0.5  |Critical: 1.0\n",
      "print for grp 3 and 1 : 0.861254051451987 |Critical:  2.56\n"
     ]
    }
   ],
   "source": [
    "mean_grp_1,std_dev = 44.5, 5\n",
    "mean_grp_2,std_dev2 = 42, 5\n",
    "mean_grp_3,std_dev3 = 46.5 , 8\n",
    "\n",
    "length = 6\n",
    "F1_2 = (std_dev*std_dev)/(std_dev2*std_dev2)\n",
    "F2_3 = (std_dev2*std_dev2)/(std_dev2*std_dev2)\n",
    "F3_1 = (std_dev3*std_dev3)/(std_dev*std_dev)\n",
    "p_value_1_2 = scipy.stats.f.cdf(F1_2,6,6)\n",
    "p_value_2_3 = scipy.stats.f.cdf(F2_3,6,6)\n",
    "p_value_3_1 = scipy.stats.f.cdf(F3_1,6,6)\n",
    "print(\"Grp 1 and 2 :\",p_value_1_2,\"|Critical:\",F1_2)\n",
    "print(\"print for grp 2 and 3 :\",p_value_2_3,\" |Critical:\",F2_3)\n",
    "print(\"print for grp 3 and 1 :\",p_value_3_1,\"|Critical: \",F3_1)"
   ]
  },
  {
   "cell_type": "markdown",
   "metadata": {},
   "source": [
    "# 9. The number of pizzas sold per day by a food zone \"Pazzi per Pizza\" follows a poisson distribution at a rate of 76 pizzas per day. What is the probability that the number of pizza sales exceeds 80 in a day? Write Python code to calculate the probability."
   ]
  },
  {
   "cell_type": "code",
   "execution_count": 10,
   "metadata": {},
   "outputs": [
    {
     "name": "stdout",
     "output_type": "stream",
     "text": [
      "The probability that the number of sales exceeds 80 in a day is 29.8%.\n"
     ]
    }
   ],
   "source": [
    "# calculate the probability\n",
    "prob = (1 - stats.poisson.cdf(80, 76)) * 100\n",
    "# rounding the value to 2 digits\n",
    "prob = round(prob, 2)\n",
    "print(\"The probability that the number of sales exceeds 80 in a day is {}%.\".format(prob))"
   ]
  },
  {
   "cell_type": "markdown",
   "metadata": {},
   "source": [
    "# 10. n the population, the mean weight is 82. A team of dietitians wants to test a new protein supplier to see if it has either a positive or negative effect on diet, or no effect at all. A sample of 25 participants who have taken the protein supplier has a mean of 95 with standard deviation is 20. Did the protein supplier affect diet? Where a=0.05"
   ]
  },
  {
   "cell_type": "code",
   "execution_count": 11,
   "metadata": {},
   "outputs": [
    {
     "name": "stdout",
     "output_type": "stream",
     "text": [
      "The z-score value is 3.25 and the p-value is 0.9994\n"
     ]
    }
   ],
   "source": [
    "pop_mean = 82\n",
    "\n",
    "# Standard Deviation\n",
    "pop_std = 20\n",
    "\n",
    "# Sample mean\n",
    "sample_mean = 95\n",
    "\n",
    "# length of sample data\n",
    "n = 25\n",
    "\n",
    "# find the z-score\n",
    "z_score = (sample_mean - pop_mean)/(pop_std/np.sqrt(n))\n",
    "\n",
    "# find the p-value\n",
    "p_value = stats.norm.cdf(z_score)\n",
    "\n",
    "print('The z-score value is {} and the p-value is {}'.format(round(z_score, 4), round(p_value, 4)))"
   ]
  },
  {
   "cell_type": "markdown",
   "metadata": {},
   "source": [
    "# 11. The number of customers that arrive on different days in a week at the Hotel Taj is given below: Test the claim that the different days of the week have the same frequency of customers. Use the significance level as 0.1."
   ]
  },
  {
   "cell_type": "code",
   "execution_count": 12,
   "metadata": {},
   "outputs": [
    {
     "data": {
      "text/plain": [
       "Ttest_1sampResult(statistic=-0.002318983330735289, pvalue=0.9982249000179266)"
      ]
     },
     "execution_count": 12,
     "metadata": {},
     "output_type": "execute_result"
    }
   ],
   "source": [
    "numofcust = pd.Series([1419,1320,1526,1289,1620,2067,2055])\n",
    "mn = round(np.mean(numofcust))\n",
    "stats.ttest_1samp(numofcust, mn)"
   ]
  },
  {
   "cell_type": "markdown",
   "metadata": {},
   "source": [
    "# 12. The number of deaths in the 7 metro cities of the US during the last month due to Covid-19 is recorded by the government, and that time, experts predicted that upto next month death rate will be increased by 30%. So the number of deaths in current month is also recorded in 7 cities in US are given below: City = [\"New York\", \"New Jersey\", \"Michigan\", \"California\", \"Florida\", \"Massachusetts\", \"Texas\"] No_of_deaths_in_last_month = [3406, 1469, 662, 583, 582, 526, 461] No_of_deaths_in_current_month = [4398, 1846, 1288, 382, 879, 430, 321] df = pd.DataFrame({\"City\": City, \"No_of_deaths_in_last_month\":No_of_deaths_in_last_month, \"No_of_deaths_in_current_month\": No_of_deaths_in_current_month}) df Is the death distribution of the current month the same as the expert’s prediction? Use the level of significance is 0.1."
   ]
  },
  {
   "cell_type": "code",
   "execution_count": 13,
   "metadata": {},
   "outputs": [
    {
     "data": {
      "text/html": [
       "<div>\n",
       "<style scoped>\n",
       "    .dataframe tbody tr th:only-of-type {\n",
       "        vertical-align: middle;\n",
       "    }\n",
       "\n",
       "    .dataframe tbody tr th {\n",
       "        vertical-align: top;\n",
       "    }\n",
       "\n",
       "    .dataframe thead th {\n",
       "        text-align: right;\n",
       "    }\n",
       "</style>\n",
       "<table border=\"1\" class=\"dataframe\">\n",
       "  <thead>\n",
       "    <tr style=\"text-align: right;\">\n",
       "      <th></th>\n",
       "      <th>City</th>\n",
       "      <th>No_of_deaths_in_last_month</th>\n",
       "      <th>No_of_deaths_in_current_month</th>\n",
       "    </tr>\n",
       "  </thead>\n",
       "  <tbody>\n",
       "    <tr>\n",
       "      <th>0</th>\n",
       "      <td>New York</td>\n",
       "      <td>3406</td>\n",
       "      <td>4398</td>\n",
       "    </tr>\n",
       "    <tr>\n",
       "      <th>1</th>\n",
       "      <td>New Jersey</td>\n",
       "      <td>1469</td>\n",
       "      <td>1846</td>\n",
       "    </tr>\n",
       "    <tr>\n",
       "      <th>2</th>\n",
       "      <td>Michigan</td>\n",
       "      <td>662</td>\n",
       "      <td>1288</td>\n",
       "    </tr>\n",
       "    <tr>\n",
       "      <th>3</th>\n",
       "      <td>California</td>\n",
       "      <td>583</td>\n",
       "      <td>382</td>\n",
       "    </tr>\n",
       "    <tr>\n",
       "      <th>4</th>\n",
       "      <td>Florida</td>\n",
       "      <td>582</td>\n",
       "      <td>879</td>\n",
       "    </tr>\n",
       "    <tr>\n",
       "      <th>5</th>\n",
       "      <td>Massachusetts</td>\n",
       "      <td>526</td>\n",
       "      <td>430</td>\n",
       "    </tr>\n",
       "    <tr>\n",
       "      <th>6</th>\n",
       "      <td>Texas</td>\n",
       "      <td>461</td>\n",
       "      <td>321</td>\n",
       "    </tr>\n",
       "  </tbody>\n",
       "</table>\n",
       "</div>"
      ],
      "text/plain": [
       "            City  No_of_deaths_in_last_month  No_of_deaths_in_current_month\n",
       "0       New York                        3406                           4398\n",
       "1     New Jersey                        1469                           1846\n",
       "2       Michigan                         662                           1288\n",
       "3     California                         583                            382\n",
       "4        Florida                         582                            879\n",
       "5  Massachusetts                         526                            430\n",
       "6          Texas                         461                            321"
      ]
     },
     "execution_count": 13,
     "metadata": {},
     "output_type": "execute_result"
    }
   ],
   "source": [
    "City = [\"New York\", \"New Jersey\", \"Michigan\", \"California\", \"Florida\", \"Massachusetts\", \"Texas\"]\n",
    "No_of_deaths_in_last_month = [3406, 1469, 662, 583, 582, 526, 461]\n",
    "No_of_deaths_in_current_month = [4398, 1846, 1288, 382, 879, 430, 321] \n",
    "df = pd.DataFrame({\"City\": City, \"No_of_deaths_in_last_month\":No_of_deaths_in_last_month, \n",
    "                   \"No_of_deaths_in_current_month\": No_of_deaths_in_current_month})\n",
    "df"
   ]
  },
  {
   "cell_type": "code",
   "execution_count": 14,
   "metadata": {},
   "outputs": [
    {
     "data": {
      "text/plain": [
       "Ttest_relResult(statistic=-1.5783719001745091, pvalue=0.16555733365702116)"
      ]
     },
     "execution_count": 14,
     "metadata": {},
     "output_type": "execute_result"
    }
   ],
   "source": [
    "from scipy.stats import ttest_rel\n",
    "ttest_rel(No_of_deaths_in_last_month, No_of_deaths_in_current_month)"
   ]
  },
  {
   "cell_type": "code",
   "execution_count": null,
   "metadata": {},
   "outputs": [],
   "source": []
  }
 ],
 "metadata": {
  "kernelspec": {
   "display_name": "Python 3",
   "language": "python",
   "name": "python3"
  },
  "language_info": {
   "codemirror_mode": {
    "name": "ipython",
    "version": 3
   },
   "file_extension": ".py",
   "mimetype": "text/x-python",
   "name": "python",
   "nbconvert_exporter": "python",
   "pygments_lexer": "ipython3",
   "version": "3.8.5"
  }
 },
 "nbformat": 4,
 "nbformat_minor": 4
}
